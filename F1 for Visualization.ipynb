{
 "cells": [
  {
   "cell_type": "code",
   "execution_count": 24,
   "metadata": {
    "ExecuteTime": {
     "end_time": "2020-03-25T00:22:59.608874Z",
     "start_time": "2020-03-25T00:22:59.491851Z"
    }
   },
   "outputs": [],
   "source": [
    "import numpy as np\n",
    "import pandas as pd\n",
    "import datetime as dt\n",
    "import warnings\n",
    "warnings.filterwarnings(\"ignore\")\n",
    "\n",
    "# data visualization\n",
    "import matplotlib.pyplot as plt\n",
    "import seaborn as sns\n",
    "# for data time functions\n",
    "from datetime import datetime\n",
    "from datetime import timedelta\n",
    "import math\n",
    "\n",
    "%matplotlib inline"
   ]
  },
  {
   "cell_type": "code",
   "execution_count": 63,
   "metadata": {
    "ExecuteTime": {
     "end_time": "2020-03-25T05:35:43.814492Z",
     "start_time": "2020-03-25T05:35:35.591768Z"
    }
   },
   "outputs": [],
   "source": [
    "d1 = pd.read_csv('/Users/eileen/Data Challenges/FORKAIA/complaints.csv', index_col=None)"
   ]
  },
  {
   "cell_type": "code",
   "execution_count": 68,
   "metadata": {
    "ExecuteTime": {
     "end_time": "2020-03-25T05:43:34.663486Z",
     "start_time": "2020-03-25T05:43:33.431028Z"
    }
   },
   "outputs": [],
   "source": [
    "df2 = d1.dropna(axis=0)"
   ]
  },
  {
   "cell_type": "code",
   "execution_count": 69,
   "metadata": {
    "ExecuteTime": {
     "end_time": "2020-03-25T05:43:41.104529Z",
     "start_time": "2020-03-25T05:43:41.096289Z"
    }
   },
   "outputs": [
    {
     "data": {
      "text/plain": [
       "(2315, 18)"
      ]
     },
     "execution_count": 69,
     "metadata": {},
     "output_type": "execute_result"
    }
   ],
   "source": [
    "df2.shape"
   ]
  },
  {
   "cell_type": "code",
   "execution_count": 70,
   "metadata": {
    "ExecuteTime": {
     "end_time": "2020-03-25T05:45:01.129811Z",
     "start_time": "2020-03-25T05:44:59.791177Z"
    }
   },
   "outputs": [],
   "source": [
    "df2.to_excel('df2.xlsx',index=False)"
   ]
  },
  {
   "cell_type": "code",
   "execution_count": null,
   "metadata": {},
   "outputs": [],
   "source": [
    "data1 = data0[data0['colu'].notnull()]"
   ]
  },
  {
   "cell_type": "code",
   "execution_count": null,
   "metadata": {},
   "outputs": [],
   "source": [
    "df4 = df4.dropna(subset=[\"age\", \"sex\"])"
   ]
  },
  {
   "cell_type": "code",
   "execution_count": null,
   "metadata": {},
   "outputs": [],
   "source": []
  },
  {
   "cell_type": "markdown",
   "metadata": {},
   "source": [
    "# Dataset"
   ]
  },
  {
   "cell_type": "markdown",
   "metadata": {},
   "source": [
    "## Load Data"
   ]
  },
  {
   "cell_type": "code",
   "execution_count": 62,
   "metadata": {
    "ExecuteTime": {
     "end_time": "2020-03-25T05:35:35.570865Z",
     "start_time": "2020-03-25T05:35:26.522711Z"
    }
   },
   "outputs": [],
   "source": [
    "data = pd.read_csv('/Users/eileen/Data Challenges/FORKAIA/complaints.csv', index_col=None)"
   ]
  },
  {
   "cell_type": "code",
   "execution_count": 28,
   "metadata": {
    "ExecuteTime": {
     "end_time": "2020-03-25T00:34:22.783815Z",
     "start_time": "2020-03-25T00:34:22.730554Z"
    }
   },
   "outputs": [
    {
     "data": {
      "text/html": [
       "<div>\n",
       "<style scoped>\n",
       "    .dataframe tbody tr th:only-of-type {\n",
       "        vertical-align: middle;\n",
       "    }\n",
       "\n",
       "    .dataframe tbody tr th {\n",
       "        vertical-align: top;\n",
       "    }\n",
       "\n",
       "    .dataframe thead th {\n",
       "        text-align: right;\n",
       "    }\n",
       "</style>\n",
       "<table border=\"1\" class=\"dataframe\">\n",
       "  <thead>\n",
       "    <tr style=\"text-align: right;\">\n",
       "      <th></th>\n",
       "      <th>Date received</th>\n",
       "      <th>Product</th>\n",
       "      <th>Sub-product</th>\n",
       "      <th>Issue</th>\n",
       "      <th>Sub-issue</th>\n",
       "      <th>Consumer complaint narrative</th>\n",
       "      <th>Company public response</th>\n",
       "      <th>Company</th>\n",
       "      <th>State</th>\n",
       "      <th>ZIP code</th>\n",
       "      <th>Tags</th>\n",
       "      <th>Consumer consent provided?</th>\n",
       "      <th>Submitted via</th>\n",
       "      <th>Date sent to company</th>\n",
       "      <th>Company response to consumer</th>\n",
       "      <th>Timely response?</th>\n",
       "      <th>Consumer disputed?</th>\n",
       "      <th>Complaint ID</th>\n",
       "    </tr>\n",
       "  </thead>\n",
       "  <tbody>\n",
       "    <tr>\n",
       "      <td>0</td>\n",
       "      <td>2020-01-23</td>\n",
       "      <td>Credit card or prepaid card</td>\n",
       "      <td>General-purpose credit card or charge card</td>\n",
       "      <td>Problem with a purchase shown on your statement</td>\n",
       "      <td>Card was charged for something you did not pur...</td>\n",
       "      <td>NaN</td>\n",
       "      <td>NaN</td>\n",
       "      <td>JPMORGAN CHASE &amp; CO.</td>\n",
       "      <td>IL</td>\n",
       "      <td>NaN</td>\n",
       "      <td>NaN</td>\n",
       "      <td>NaN</td>\n",
       "      <td>Web</td>\n",
       "      <td>2020-01-23</td>\n",
       "      <td>Closed with monetary relief</td>\n",
       "      <td>Yes</td>\n",
       "      <td>NaN</td>\n",
       "      <td>3505861</td>\n",
       "    </tr>\n",
       "    <tr>\n",
       "      <td>1</td>\n",
       "      <td>2019-09-24</td>\n",
       "      <td>Debt collection</td>\n",
       "      <td>I do not know</td>\n",
       "      <td>Attempts to collect debt not owed</td>\n",
       "      <td>Debt is not yours</td>\n",
       "      <td>transworld systems inc. \\nis trying to collect...</td>\n",
       "      <td>NaN</td>\n",
       "      <td>TRANSWORLD SYSTEMS INC</td>\n",
       "      <td>FL</td>\n",
       "      <td>335XX</td>\n",
       "      <td>NaN</td>\n",
       "      <td>Consent provided</td>\n",
       "      <td>Web</td>\n",
       "      <td>2019-09-24</td>\n",
       "      <td>Closed with explanation</td>\n",
       "      <td>Yes</td>\n",
       "      <td>NaN</td>\n",
       "      <td>3384392</td>\n",
       "    </tr>\n",
       "    <tr>\n",
       "      <td>2</td>\n",
       "      <td>2019-09-19</td>\n",
       "      <td>Credit reporting, credit repair services, or o...</td>\n",
       "      <td>Credit reporting</td>\n",
       "      <td>Incorrect information on your report</td>\n",
       "      <td>Information belongs to someone else</td>\n",
       "      <td>NaN</td>\n",
       "      <td>Company has responded to the consumer and the ...</td>\n",
       "      <td>Experian Information Solutions Inc.</td>\n",
       "      <td>PA</td>\n",
       "      <td>15206</td>\n",
       "      <td>NaN</td>\n",
       "      <td>Consent not provided</td>\n",
       "      <td>Web</td>\n",
       "      <td>2019-09-20</td>\n",
       "      <td>Closed with non-monetary relief</td>\n",
       "      <td>Yes</td>\n",
       "      <td>NaN</td>\n",
       "      <td>3379500</td>\n",
       "    </tr>\n",
       "    <tr>\n",
       "      <td>3</td>\n",
       "      <td>2019-10-25</td>\n",
       "      <td>Credit reporting, credit repair services, or o...</td>\n",
       "      <td>Credit reporting</td>\n",
       "      <td>Incorrect information on your report</td>\n",
       "      <td>Information belongs to someone else</td>\n",
       "      <td>I would like to request the suppression of the...</td>\n",
       "      <td>Company has responded to the consumer and the ...</td>\n",
       "      <td>TRANSUNION INTERMEDIATE HOLDINGS, INC.</td>\n",
       "      <td>CA</td>\n",
       "      <td>937XX</td>\n",
       "      <td>NaN</td>\n",
       "      <td>Consent provided</td>\n",
       "      <td>Web</td>\n",
       "      <td>2019-10-25</td>\n",
       "      <td>Closed with explanation</td>\n",
       "      <td>Yes</td>\n",
       "      <td>NaN</td>\n",
       "      <td>3417821</td>\n",
       "    </tr>\n",
       "    <tr>\n",
       "      <td>4</td>\n",
       "      <td>2020-01-11</td>\n",
       "      <td>Debt collection</td>\n",
       "      <td>Other debt</td>\n",
       "      <td>Attempts to collect debt not owed</td>\n",
       "      <td>Debt is not yours</td>\n",
       "      <td>NaN</td>\n",
       "      <td>NaN</td>\n",
       "      <td>EQUIFAX, INC.</td>\n",
       "      <td>NY</td>\n",
       "      <td>10456</td>\n",
       "      <td>NaN</td>\n",
       "      <td>NaN</td>\n",
       "      <td>Web</td>\n",
       "      <td>2020-01-11</td>\n",
       "      <td>In progress</td>\n",
       "      <td>Yes</td>\n",
       "      <td>NaN</td>\n",
       "      <td>3493059</td>\n",
       "    </tr>\n",
       "    <tr>\n",
       "      <td>...</td>\n",
       "      <td>...</td>\n",
       "      <td>...</td>\n",
       "      <td>...</td>\n",
       "      <td>...</td>\n",
       "      <td>...</td>\n",
       "      <td>...</td>\n",
       "      <td>...</td>\n",
       "      <td>...</td>\n",
       "      <td>...</td>\n",
       "      <td>...</td>\n",
       "      <td>...</td>\n",
       "      <td>...</td>\n",
       "      <td>...</td>\n",
       "      <td>...</td>\n",
       "      <td>...</td>\n",
       "      <td>...</td>\n",
       "      <td>...</td>\n",
       "      <td>...</td>\n",
       "    </tr>\n",
       "    <tr>\n",
       "      <td>1493878</td>\n",
       "      <td>2016-07-11</td>\n",
       "      <td>Consumer Loan</td>\n",
       "      <td>Vehicle loan</td>\n",
       "      <td>Managing the loan or lease</td>\n",
       "      <td>NaN</td>\n",
       "      <td>I was on automatic payment for my car loan. In...</td>\n",
       "      <td>NaN</td>\n",
       "      <td>NISSAN MOTOR ACCEPTANCE CORPORATION</td>\n",
       "      <td>IL</td>\n",
       "      <td>607XX</td>\n",
       "      <td>NaN</td>\n",
       "      <td>Consent provided</td>\n",
       "      <td>Web</td>\n",
       "      <td>2016-07-11</td>\n",
       "      <td>Closed with explanation</td>\n",
       "      <td>Yes</td>\n",
       "      <td>No</td>\n",
       "      <td>2007463</td>\n",
       "    </tr>\n",
       "    <tr>\n",
       "      <td>1493879</td>\n",
       "      <td>2017-01-24</td>\n",
       "      <td>Debt collection</td>\n",
       "      <td>I do not know</td>\n",
       "      <td>Communication tactics</td>\n",
       "      <td>Threatened to take legal action</td>\n",
       "      <td>I recieved a collections call from an unknown ...</td>\n",
       "      <td>Company has responded to the consumer and the ...</td>\n",
       "      <td>CMRE Financial Services, Inc.</td>\n",
       "      <td>CA</td>\n",
       "      <td>917XX</td>\n",
       "      <td>NaN</td>\n",
       "      <td>Consent provided</td>\n",
       "      <td>Web</td>\n",
       "      <td>2017-01-24</td>\n",
       "      <td>Closed with explanation</td>\n",
       "      <td>Yes</td>\n",
       "      <td>No</td>\n",
       "      <td>2308954</td>\n",
       "    </tr>\n",
       "    <tr>\n",
       "      <td>1493880</td>\n",
       "      <td>2015-03-26</td>\n",
       "      <td>Mortgage</td>\n",
       "      <td>FHA mortgage</td>\n",
       "      <td>Loan servicing, payments, escrow account</td>\n",
       "      <td>NaN</td>\n",
       "      <td>On XXXX XXXX, 2015, I contacted XXXX XXXX, who...</td>\n",
       "      <td>NaN</td>\n",
       "      <td>Finance of America Mortgage LLC</td>\n",
       "      <td>CA</td>\n",
       "      <td>925XX</td>\n",
       "      <td>NaN</td>\n",
       "      <td>Consent provided</td>\n",
       "      <td>Web</td>\n",
       "      <td>2015-03-26</td>\n",
       "      <td>Closed with monetary relief</td>\n",
       "      <td>Yes</td>\n",
       "      <td>No</td>\n",
       "      <td>1303324</td>\n",
       "    </tr>\n",
       "    <tr>\n",
       "      <td>1493881</td>\n",
       "      <td>2015-12-12</td>\n",
       "      <td>Mortgage</td>\n",
       "      <td>Conventional adjustable mortgage (ARM)</td>\n",
       "      <td>Loan servicing, payments, escrow account</td>\n",
       "      <td>NaN</td>\n",
       "      <td>I can not get from chase who services my mortg...</td>\n",
       "      <td>NaN</td>\n",
       "      <td>JPMORGAN CHASE &amp; CO.</td>\n",
       "      <td>NY</td>\n",
       "      <td>110XX</td>\n",
       "      <td>NaN</td>\n",
       "      <td>Consent provided</td>\n",
       "      <td>Web</td>\n",
       "      <td>2015-12-12</td>\n",
       "      <td>Closed with explanation</td>\n",
       "      <td>Yes</td>\n",
       "      <td>No</td>\n",
       "      <td>1694674</td>\n",
       "    </tr>\n",
       "    <tr>\n",
       "      <td>1493882</td>\n",
       "      <td>2016-08-09</td>\n",
       "      <td>Credit card</td>\n",
       "      <td>NaN</td>\n",
       "      <td>Transaction issue</td>\n",
       "      <td>NaN</td>\n",
       "      <td>I made a payment to CITI XXXX Credit Card on X...</td>\n",
       "      <td>Company has responded to the consumer and the ...</td>\n",
       "      <td>CITIBANK, N.A.</td>\n",
       "      <td>WI</td>\n",
       "      <td>NaN</td>\n",
       "      <td>NaN</td>\n",
       "      <td>Consent provided</td>\n",
       "      <td>Web</td>\n",
       "      <td>2016-08-09</td>\n",
       "      <td>Closed with non-monetary relief</td>\n",
       "      <td>Yes</td>\n",
       "      <td>No</td>\n",
       "      <td>2053487</td>\n",
       "    </tr>\n",
       "  </tbody>\n",
       "</table>\n",
       "<p>1493883 rows × 18 columns</p>\n",
       "</div>"
      ],
      "text/plain": [
       "        Date received                                            Product  \\\n",
       "0          2020-01-23                        Credit card or prepaid card   \n",
       "1          2019-09-24                                    Debt collection   \n",
       "2          2019-09-19  Credit reporting, credit repair services, or o...   \n",
       "3          2019-10-25  Credit reporting, credit repair services, or o...   \n",
       "4          2020-01-11                                    Debt collection   \n",
       "...               ...                                                ...   \n",
       "1493878    2016-07-11                                      Consumer Loan   \n",
       "1493879    2017-01-24                                    Debt collection   \n",
       "1493880    2015-03-26                                           Mortgage   \n",
       "1493881    2015-12-12                                           Mortgage   \n",
       "1493882    2016-08-09                                        Credit card   \n",
       "\n",
       "                                        Sub-product  \\\n",
       "0        General-purpose credit card or charge card   \n",
       "1                                     I do not know   \n",
       "2                                  Credit reporting   \n",
       "3                                  Credit reporting   \n",
       "4                                        Other debt   \n",
       "...                                             ...   \n",
       "1493878                                Vehicle loan   \n",
       "1493879                               I do not know   \n",
       "1493880                                FHA mortgage   \n",
       "1493881      Conventional adjustable mortgage (ARM)   \n",
       "1493882                                         NaN   \n",
       "\n",
       "                                                   Issue  \\\n",
       "0        Problem with a purchase shown on your statement   \n",
       "1                      Attempts to collect debt not owed   \n",
       "2                   Incorrect information on your report   \n",
       "3                   Incorrect information on your report   \n",
       "4                      Attempts to collect debt not owed   \n",
       "...                                                  ...   \n",
       "1493878                       Managing the loan or lease   \n",
       "1493879                            Communication tactics   \n",
       "1493880         Loan servicing, payments, escrow account   \n",
       "1493881         Loan servicing, payments, escrow account   \n",
       "1493882                                Transaction issue   \n",
       "\n",
       "                                                 Sub-issue  \\\n",
       "0        Card was charged for something you did not pur...   \n",
       "1                                        Debt is not yours   \n",
       "2                      Information belongs to someone else   \n",
       "3                      Information belongs to someone else   \n",
       "4                                        Debt is not yours   \n",
       "...                                                    ...   \n",
       "1493878                                                NaN   \n",
       "1493879                    Threatened to take legal action   \n",
       "1493880                                                NaN   \n",
       "1493881                                                NaN   \n",
       "1493882                                                NaN   \n",
       "\n",
       "                              Consumer complaint narrative  \\\n",
       "0                                                      NaN   \n",
       "1        transworld systems inc. \\nis trying to collect...   \n",
       "2                                                      NaN   \n",
       "3        I would like to request the suppression of the...   \n",
       "4                                                      NaN   \n",
       "...                                                    ...   \n",
       "1493878  I was on automatic payment for my car loan. In...   \n",
       "1493879  I recieved a collections call from an unknown ...   \n",
       "1493880  On XXXX XXXX, 2015, I contacted XXXX XXXX, who...   \n",
       "1493881  I can not get from chase who services my mortg...   \n",
       "1493882  I made a payment to CITI XXXX Credit Card on X...   \n",
       "\n",
       "                                   Company public response  \\\n",
       "0                                                      NaN   \n",
       "1                                                      NaN   \n",
       "2        Company has responded to the consumer and the ...   \n",
       "3        Company has responded to the consumer and the ...   \n",
       "4                                                      NaN   \n",
       "...                                                    ...   \n",
       "1493878                                                NaN   \n",
       "1493879  Company has responded to the consumer and the ...   \n",
       "1493880                                                NaN   \n",
       "1493881                                                NaN   \n",
       "1493882  Company has responded to the consumer and the ...   \n",
       "\n",
       "                                        Company State ZIP code Tags  \\\n",
       "0                          JPMORGAN CHASE & CO.    IL      NaN  NaN   \n",
       "1                        TRANSWORLD SYSTEMS INC    FL    335XX  NaN   \n",
       "2           Experian Information Solutions Inc.    PA    15206  NaN   \n",
       "3        TRANSUNION INTERMEDIATE HOLDINGS, INC.    CA    937XX  NaN   \n",
       "4                                 EQUIFAX, INC.    NY    10456  NaN   \n",
       "...                                         ...   ...      ...  ...   \n",
       "1493878     NISSAN MOTOR ACCEPTANCE CORPORATION    IL    607XX  NaN   \n",
       "1493879           CMRE Financial Services, Inc.    CA    917XX  NaN   \n",
       "1493880         Finance of America Mortgage LLC    CA    925XX  NaN   \n",
       "1493881                    JPMORGAN CHASE & CO.    NY    110XX  NaN   \n",
       "1493882                          CITIBANK, N.A.    WI      NaN  NaN   \n",
       "\n",
       "        Consumer consent provided? Submitted via Date sent to company  \\\n",
       "0                              NaN           Web           2020-01-23   \n",
       "1                 Consent provided           Web           2019-09-24   \n",
       "2             Consent not provided           Web           2019-09-20   \n",
       "3                 Consent provided           Web           2019-10-25   \n",
       "4                              NaN           Web           2020-01-11   \n",
       "...                            ...           ...                  ...   \n",
       "1493878           Consent provided           Web           2016-07-11   \n",
       "1493879           Consent provided           Web           2017-01-24   \n",
       "1493880           Consent provided           Web           2015-03-26   \n",
       "1493881           Consent provided           Web           2015-12-12   \n",
       "1493882           Consent provided           Web           2016-08-09   \n",
       "\n",
       "            Company response to consumer Timely response? Consumer disputed?  \\\n",
       "0            Closed with monetary relief              Yes                NaN   \n",
       "1                Closed with explanation              Yes                NaN   \n",
       "2        Closed with non-monetary relief              Yes                NaN   \n",
       "3                Closed with explanation              Yes                NaN   \n",
       "4                            In progress              Yes                NaN   \n",
       "...                                  ...              ...                ...   \n",
       "1493878          Closed with explanation              Yes                 No   \n",
       "1493879          Closed with explanation              Yes                 No   \n",
       "1493880      Closed with monetary relief              Yes                 No   \n",
       "1493881          Closed with explanation              Yes                 No   \n",
       "1493882  Closed with non-monetary relief              Yes                 No   \n",
       "\n",
       "         Complaint ID  \n",
       "0             3505861  \n",
       "1             3384392  \n",
       "2             3379500  \n",
       "3             3417821  \n",
       "4             3493059  \n",
       "...               ...  \n",
       "1493878       2007463  \n",
       "1493879       2308954  \n",
       "1493880       1303324  \n",
       "1493881       1694674  \n",
       "1493882       2053487  \n",
       "\n",
       "[1493883 rows x 18 columns]"
      ]
     },
     "execution_count": 28,
     "metadata": {},
     "output_type": "execute_result"
    }
   ],
   "source": [
    "data"
   ]
  },
  {
   "cell_type": "code",
   "execution_count": 50,
   "metadata": {
    "ExecuteTime": {
     "end_time": "2020-03-25T00:55:04.411364Z",
     "start_time": "2020-03-25T00:55:04.405889Z"
    }
   },
   "outputs": [
    {
     "data": {
      "text/plain": [
       "(1493883, 18)"
      ]
     },
     "execution_count": 50,
     "metadata": {},
     "output_type": "execute_result"
    }
   ],
   "source": [
    "data.shape"
   ]
  },
  {
   "cell_type": "code",
   "execution_count": 16,
   "metadata": {
    "ExecuteTime": {
     "end_time": "2020-03-25T00:17:44.933602Z",
     "start_time": "2020-03-25T00:17:44.920463Z"
    }
   },
   "outputs": [
    {
     "data": {
      "text/plain": [
       "Index(['Date received', 'Product', 'Sub-product', 'Issue', 'Sub-issue',\n",
       "       'Consumer complaint narrative', 'Company public response', 'Company',\n",
       "       'State', 'ZIP code', 'Tags', 'Consumer consent provided?',\n",
       "       'Submitted via', 'Date sent to company', 'Company response to consumer',\n",
       "       'Timely response?', 'Consumer disputed?', 'Complaint ID'],\n",
       "      dtype='object')"
      ]
     },
     "execution_count": 16,
     "metadata": {},
     "output_type": "execute_result"
    }
   ],
   "source": [
    "data.columns"
   ]
  },
  {
   "cell_type": "code",
   "execution_count": 51,
   "metadata": {
    "ExecuteTime": {
     "end_time": "2020-03-25T00:58:41.384239Z",
     "start_time": "2020-03-25T00:58:39.185949Z"
    }
   },
   "outputs": [],
   "source": [
    "data['Date received'] = pd.to_datetime(data['Date received'])\n",
    "data['Date sent to company'] = pd.to_datetime(data['Date sent to company'])\n",
    "data['Timely response?'] = data['Timely response?'].astype('bool')\n",
    "data['Consumer disputed?'] = data['Consumer disputed?'].astype('bool')\n",
    "data['Complaint ID'] = data['Complaint ID'].astype('object')"
   ]
  },
  {
   "cell_type": "code",
   "execution_count": 10,
   "metadata": {
    "ExecuteTime": {
     "end_time": "2020-03-24T23:26:16.279164Z",
     "start_time": "2020-03-24T23:26:16.111442Z"
    }
   },
   "outputs": [
    {
     "data": {
      "text/plain": [
       "Credit reporting, credit repair services, or other personal consumer reports    335067\n",
       "Mortgage                                                                        294645\n",
       "Debt collection                                                                 278874\n",
       "Credit reporting                                                                140432\n",
       "Credit card                                                                      89190\n",
       "Bank account or service                                                          86206\n",
       "Credit card or prepaid card                                                      67341\n",
       "Checking or savings account                                                      57074\n",
       "Student loan                                                                     56250\n",
       "Consumer Loan                                                                    31604\n",
       "Vehicle loan or lease                                                            15431\n",
       "Money transfer, virtual currency, or money service                               14088\n",
       "Payday loan, title loan, or personal loan                                        11888\n",
       "Payday loan                                                                       5543\n",
       "Money transfers                                                                   5354\n",
       "Prepaid card                                                                      3819\n",
       "Other financial service                                                           1059\n",
       "Virtual currency                                                                    18\n",
       "Name: Product, dtype: int64"
      ]
     },
     "execution_count": 10,
     "metadata": {},
     "output_type": "execute_result"
    }
   ],
   "source": [
    "data.Product.value_counts()"
   ]
  },
  {
   "cell_type": "markdown",
   "metadata": {
    "ExecuteTime": {
     "end_time": "2020-03-25T00:15:23.538561Z",
     "start_time": "2020-03-25T00:15:23.530662Z"
    }
   },
   "source": [
    "## Check Data"
   ]
  },
  {
   "cell_type": "code",
   "execution_count": 52,
   "metadata": {
    "ExecuteTime": {
     "end_time": "2020-03-25T01:01:45.236585Z",
     "start_time": "2020-03-25T01:01:43.907181Z"
    }
   },
   "outputs": [
    {
     "name": "stdout",
     "output_type": "stream",
     "text": [
      "<class 'pandas.core.frame.DataFrame'>\n",
      "Int64Index: 1493883 entries, 0 to 1493882\n",
      "Data columns (total 18 columns):\n",
      "Date received                   1493883 non-null datetime64[ns]\n",
      "Product                         1493883 non-null object\n",
      "Sub-product                     1258718 non-null object\n",
      "Issue                           1493883 non-null object\n",
      "Sub-issue                       936535 non-null object\n",
      "Consumer complaint narrative    490604 non-null object\n",
      "Company public response         560118 non-null object\n",
      "Company                         1493883 non-null object\n",
      "State                           1468928 non-null object\n",
      "ZIP code                        1354087 non-null object\n",
      "Tags                            203285 non-null object\n",
      "Consumer consent provided?      881041 non-null object\n",
      "Submitted via                   1493883 non-null object\n",
      "Date sent to company            1493883 non-null datetime64[ns]\n",
      "Company response to consumer    1493882 non-null object\n",
      "Timely response?                1493883 non-null bool\n",
      "Consumer disputed?              1493883 non-null bool\n",
      "Complaint ID                    1493883 non-null object\n",
      "dtypes: bool(2), datetime64[ns](2), object(14)\n",
      "memory usage: 196.6+ MB\n"
     ]
    }
   ],
   "source": [
    "data.info()"
   ]
  },
  {
   "cell_type": "code",
   "execution_count": 29,
   "metadata": {
    "ExecuteTime": {
     "end_time": "2020-03-25T00:36:29.446304Z",
     "start_time": "2020-03-25T00:36:27.537407Z"
    }
   },
   "outputs": [
    {
     "data": {
      "text/plain": [
       "Date received                         0\n",
       "Product                               0\n",
       "Sub-product                      235165\n",
       "Issue                                 0\n",
       "Sub-issue                        557348\n",
       "Consumer complaint narrative    1003279\n",
       "Company public response          933765\n",
       "Company                               0\n",
       "State                             24955\n",
       "ZIP code                         139796\n",
       "Tags                            1290598\n",
       "Consumer consent provided?       612842\n",
       "Submitted via                         0\n",
       "Date sent to company                  0\n",
       "Company response to consumer          1\n",
       "Timely response?                      0\n",
       "Consumer disputed?               725404\n",
       "Complaint ID                          0\n",
       "dtype: int64"
      ]
     },
     "execution_count": 29,
     "metadata": {},
     "output_type": "execute_result"
    }
   ],
   "source": [
    "#Count of null values present in respective columns of data.\n",
    "data.isnull().sum()"
   ]
  },
  {
   "cell_type": "code",
   "execution_count": 44,
   "metadata": {
    "ExecuteTime": {
     "end_time": "2020-03-25T00:46:27.799577Z",
     "start_time": "2020-03-25T00:46:27.795004Z"
    }
   },
   "outputs": [
    {
     "data": {
      "text/plain": [
       "(1493883, 18)"
      ]
     },
     "execution_count": 44,
     "metadata": {},
     "output_type": "execute_result"
    }
   ],
   "source": [
    "data.shape"
   ]
  },
  {
   "cell_type": "code",
   "execution_count": 60,
   "metadata": {
    "ExecuteTime": {
     "end_time": "2020-03-25T01:12:18.852720Z",
     "start_time": "2020-03-25T01:11:43.624240Z"
    }
   },
   "outputs": [],
   "source": [
    "data.to_csv('complaints.csv', index=False)"
   ]
  },
  {
   "cell_type": "markdown",
   "metadata": {},
   "source": [
    "## Data Preprocessing"
   ]
  },
  {
   "cell_type": "code",
   "execution_count": 53,
   "metadata": {
    "ExecuteTime": {
     "end_time": "2020-03-25T01:01:50.322784Z",
     "start_time": "2020-03-25T01:01:48.351852Z"
    }
   },
   "outputs": [],
   "source": [
    "# removing rows with null values in all columns\n",
    "data.dropna(axis=0, how='all', inplace=True)\n",
    "# removing columns with null values in all rows\n",
    "data.dropna(axis=1, how='all', inplace=True)"
   ]
  },
  {
   "cell_type": "code",
   "execution_count": 54,
   "metadata": {
    "ExecuteTime": {
     "end_time": "2020-03-25T01:01:51.758095Z",
     "start_time": "2020-03-25T01:01:51.753676Z"
    }
   },
   "outputs": [
    {
     "data": {
      "text/plain": [
       "(1493883, 18)"
      ]
     },
     "execution_count": 54,
     "metadata": {},
     "output_type": "execute_result"
    }
   ],
   "source": [
    "data.shape"
   ]
  },
  {
   "cell_type": "code",
   "execution_count": null,
   "metadata": {},
   "outputs": [],
   "source": []
  },
  {
   "cell_type": "code",
   "execution_count": 55,
   "metadata": {
    "ExecuteTime": {
     "end_time": "2020-03-25T01:02:55.383382Z",
     "start_time": "2020-03-25T01:02:55.379481Z"
    }
   },
   "outputs": [
    {
     "data": {
      "text/plain": [
       "298776.4"
      ]
     },
     "execution_count": 55,
     "metadata": {},
     "output_type": "execute_result"
    }
   ],
   "source": [
    "1493882*0.20"
   ]
  },
  {
   "cell_type": "code",
   "execution_count": 35,
   "metadata": {
    "ExecuteTime": {
     "end_time": "2020-03-25T00:42:24.693236Z",
     "start_time": "2020-03-25T00:42:24.561697Z"
    }
   },
   "outputs": [
    {
     "data": {
      "text/plain": [
       "Credit reporting                          329155\n",
       "Checking account                          102050\n",
       "Other mortgage                             86635\n",
       "Conventional fixed mortgage                70613\n",
       "I do not know                              57670\n",
       "                                           ...  \n",
       "Credit repair                                103\n",
       "Traveler’s/Cashier’s checks                   88\n",
       "Transit card                                  37\n",
       "Electronic Benefit Transfer / EBT card        12\n",
       "Student prepaid card                           6\n",
       "Name: Sub-product, Length: 76, dtype: int64"
      ]
     },
     "execution_count": 35,
     "metadata": {},
     "output_type": "execute_result"
    }
   ],
   "source": [
    "data['Sub-product'].value_counts()"
   ]
  },
  {
   "cell_type": "code",
   "execution_count": 43,
   "metadata": {
    "ExecuteTime": {
     "end_time": "2020-03-25T00:45:35.782473Z",
     "start_time": "2020-03-25T00:45:35.696471Z"
    }
   },
   "outputs": [
    {
     "data": {
      "text/plain": [
       "Servicemember                    101557\n",
       "Older American                    85136\n",
       "Older American, Servicemember     16592\n",
       "Name: Tags, dtype: int64"
      ]
     },
     "execution_count": 43,
     "metadata": {},
     "output_type": "execute_result"
    }
   ],
   "source": [
    "data['Tags'].value_counts()"
   ]
  },
  {
   "cell_type": "code",
   "execution_count": 36,
   "metadata": {
    "ExecuteTime": {
     "end_time": "2020-03-25T00:42:56.209262Z",
     "start_time": "2020-03-25T00:42:56.183388Z"
    }
   },
   "outputs": [
    {
     "data": {
      "text/html": [
       "<div>\n",
       "<style scoped>\n",
       "    .dataframe tbody tr th:only-of-type {\n",
       "        vertical-align: middle;\n",
       "    }\n",
       "\n",
       "    .dataframe tbody tr th {\n",
       "        vertical-align: top;\n",
       "    }\n",
       "\n",
       "    .dataframe thead th {\n",
       "        text-align: right;\n",
       "    }\n",
       "</style>\n",
       "<table border=\"1\" class=\"dataframe\">\n",
       "  <thead>\n",
       "    <tr style=\"text-align: right;\">\n",
       "      <th></th>\n",
       "      <th>Date received</th>\n",
       "      <th>Product</th>\n",
       "      <th>Sub-product</th>\n",
       "      <th>Issue</th>\n",
       "      <th>Sub-issue</th>\n",
       "      <th>Consumer complaint narrative</th>\n",
       "      <th>Company public response</th>\n",
       "      <th>Company</th>\n",
       "      <th>State</th>\n",
       "      <th>ZIP code</th>\n",
       "      <th>Tags</th>\n",
       "      <th>Consumer consent provided?</th>\n",
       "      <th>Submitted via</th>\n",
       "      <th>Date sent to company</th>\n",
       "      <th>Company response to consumer</th>\n",
       "      <th>Timely response?</th>\n",
       "      <th>Consumer disputed?</th>\n",
       "      <th>Complaint ID</th>\n",
       "    </tr>\n",
       "  </thead>\n",
       "  <tbody>\n",
       "    <tr>\n",
       "      <td>0</td>\n",
       "      <td>2020-01-23</td>\n",
       "      <td>Credit card or prepaid card</td>\n",
       "      <td>General-purpose credit card or charge card</td>\n",
       "      <td>Problem with a purchase shown on your statement</td>\n",
       "      <td>Card was charged for something you did not pur...</td>\n",
       "      <td>NaN</td>\n",
       "      <td>NaN</td>\n",
       "      <td>JPMORGAN CHASE &amp; CO.</td>\n",
       "      <td>IL</td>\n",
       "      <td>NaN</td>\n",
       "      <td>NaN</td>\n",
       "      <td>NaN</td>\n",
       "      <td>Web</td>\n",
       "      <td>2020-01-23</td>\n",
       "      <td>Closed with monetary relief</td>\n",
       "      <td>Yes</td>\n",
       "      <td>NaN</td>\n",
       "      <td>3505861</td>\n",
       "    </tr>\n",
       "    <tr>\n",
       "      <td>1</td>\n",
       "      <td>2019-09-24</td>\n",
       "      <td>Debt collection</td>\n",
       "      <td>I do not know</td>\n",
       "      <td>Attempts to collect debt not owed</td>\n",
       "      <td>Debt is not yours</td>\n",
       "      <td>transworld systems inc. \\nis trying to collect...</td>\n",
       "      <td>NaN</td>\n",
       "      <td>TRANSWORLD SYSTEMS INC</td>\n",
       "      <td>FL</td>\n",
       "      <td>335XX</td>\n",
       "      <td>NaN</td>\n",
       "      <td>Consent provided</td>\n",
       "      <td>Web</td>\n",
       "      <td>2019-09-24</td>\n",
       "      <td>Closed with explanation</td>\n",
       "      <td>Yes</td>\n",
       "      <td>NaN</td>\n",
       "      <td>3384392</td>\n",
       "    </tr>\n",
       "    <tr>\n",
       "      <td>2</td>\n",
       "      <td>2019-09-19</td>\n",
       "      <td>Credit reporting, credit repair services, or o...</td>\n",
       "      <td>Credit reporting</td>\n",
       "      <td>Incorrect information on your report</td>\n",
       "      <td>Information belongs to someone else</td>\n",
       "      <td>NaN</td>\n",
       "      <td>Company has responded to the consumer and the ...</td>\n",
       "      <td>Experian Information Solutions Inc.</td>\n",
       "      <td>PA</td>\n",
       "      <td>15206</td>\n",
       "      <td>NaN</td>\n",
       "      <td>Consent not provided</td>\n",
       "      <td>Web</td>\n",
       "      <td>2019-09-20</td>\n",
       "      <td>Closed with non-monetary relief</td>\n",
       "      <td>Yes</td>\n",
       "      <td>NaN</td>\n",
       "      <td>3379500</td>\n",
       "    </tr>\n",
       "    <tr>\n",
       "      <td>3</td>\n",
       "      <td>2019-10-25</td>\n",
       "      <td>Credit reporting, credit repair services, or o...</td>\n",
       "      <td>Credit reporting</td>\n",
       "      <td>Incorrect information on your report</td>\n",
       "      <td>Information belongs to someone else</td>\n",
       "      <td>I would like to request the suppression of the...</td>\n",
       "      <td>Company has responded to the consumer and the ...</td>\n",
       "      <td>TRANSUNION INTERMEDIATE HOLDINGS, INC.</td>\n",
       "      <td>CA</td>\n",
       "      <td>937XX</td>\n",
       "      <td>NaN</td>\n",
       "      <td>Consent provided</td>\n",
       "      <td>Web</td>\n",
       "      <td>2019-10-25</td>\n",
       "      <td>Closed with explanation</td>\n",
       "      <td>Yes</td>\n",
       "      <td>NaN</td>\n",
       "      <td>3417821</td>\n",
       "    </tr>\n",
       "    <tr>\n",
       "      <td>4</td>\n",
       "      <td>2020-01-11</td>\n",
       "      <td>Debt collection</td>\n",
       "      <td>Other debt</td>\n",
       "      <td>Attempts to collect debt not owed</td>\n",
       "      <td>Debt is not yours</td>\n",
       "      <td>NaN</td>\n",
       "      <td>NaN</td>\n",
       "      <td>EQUIFAX, INC.</td>\n",
       "      <td>NY</td>\n",
       "      <td>10456</td>\n",
       "      <td>NaN</td>\n",
       "      <td>NaN</td>\n",
       "      <td>Web</td>\n",
       "      <td>2020-01-11</td>\n",
       "      <td>In progress</td>\n",
       "      <td>Yes</td>\n",
       "      <td>NaN</td>\n",
       "      <td>3493059</td>\n",
       "    </tr>\n",
       "    <tr>\n",
       "      <td>...</td>\n",
       "      <td>...</td>\n",
       "      <td>...</td>\n",
       "      <td>...</td>\n",
       "      <td>...</td>\n",
       "      <td>...</td>\n",
       "      <td>...</td>\n",
       "      <td>...</td>\n",
       "      <td>...</td>\n",
       "      <td>...</td>\n",
       "      <td>...</td>\n",
       "      <td>...</td>\n",
       "      <td>...</td>\n",
       "      <td>...</td>\n",
       "      <td>...</td>\n",
       "      <td>...</td>\n",
       "      <td>...</td>\n",
       "      <td>...</td>\n",
       "      <td>...</td>\n",
       "    </tr>\n",
       "    <tr>\n",
       "      <td>1493878</td>\n",
       "      <td>2016-07-11</td>\n",
       "      <td>Consumer Loan</td>\n",
       "      <td>Vehicle loan</td>\n",
       "      <td>Managing the loan or lease</td>\n",
       "      <td>NaN</td>\n",
       "      <td>I was on automatic payment for my car loan. In...</td>\n",
       "      <td>NaN</td>\n",
       "      <td>NISSAN MOTOR ACCEPTANCE CORPORATION</td>\n",
       "      <td>IL</td>\n",
       "      <td>607XX</td>\n",
       "      <td>NaN</td>\n",
       "      <td>Consent provided</td>\n",
       "      <td>Web</td>\n",
       "      <td>2016-07-11</td>\n",
       "      <td>Closed with explanation</td>\n",
       "      <td>Yes</td>\n",
       "      <td>No</td>\n",
       "      <td>2007463</td>\n",
       "    </tr>\n",
       "    <tr>\n",
       "      <td>1493879</td>\n",
       "      <td>2017-01-24</td>\n",
       "      <td>Debt collection</td>\n",
       "      <td>I do not know</td>\n",
       "      <td>Communication tactics</td>\n",
       "      <td>Threatened to take legal action</td>\n",
       "      <td>I recieved a collections call from an unknown ...</td>\n",
       "      <td>Company has responded to the consumer and the ...</td>\n",
       "      <td>CMRE Financial Services, Inc.</td>\n",
       "      <td>CA</td>\n",
       "      <td>917XX</td>\n",
       "      <td>NaN</td>\n",
       "      <td>Consent provided</td>\n",
       "      <td>Web</td>\n",
       "      <td>2017-01-24</td>\n",
       "      <td>Closed with explanation</td>\n",
       "      <td>Yes</td>\n",
       "      <td>No</td>\n",
       "      <td>2308954</td>\n",
       "    </tr>\n",
       "    <tr>\n",
       "      <td>1493880</td>\n",
       "      <td>2015-03-26</td>\n",
       "      <td>Mortgage</td>\n",
       "      <td>FHA mortgage</td>\n",
       "      <td>Loan servicing, payments, escrow account</td>\n",
       "      <td>NaN</td>\n",
       "      <td>On XXXX XXXX, 2015, I contacted XXXX XXXX, who...</td>\n",
       "      <td>NaN</td>\n",
       "      <td>Finance of America Mortgage LLC</td>\n",
       "      <td>CA</td>\n",
       "      <td>925XX</td>\n",
       "      <td>NaN</td>\n",
       "      <td>Consent provided</td>\n",
       "      <td>Web</td>\n",
       "      <td>2015-03-26</td>\n",
       "      <td>Closed with monetary relief</td>\n",
       "      <td>Yes</td>\n",
       "      <td>No</td>\n",
       "      <td>1303324</td>\n",
       "    </tr>\n",
       "    <tr>\n",
       "      <td>1493881</td>\n",
       "      <td>2015-12-12</td>\n",
       "      <td>Mortgage</td>\n",
       "      <td>Conventional adjustable mortgage (ARM)</td>\n",
       "      <td>Loan servicing, payments, escrow account</td>\n",
       "      <td>NaN</td>\n",
       "      <td>I can not get from chase who services my mortg...</td>\n",
       "      <td>NaN</td>\n",
       "      <td>JPMORGAN CHASE &amp; CO.</td>\n",
       "      <td>NY</td>\n",
       "      <td>110XX</td>\n",
       "      <td>NaN</td>\n",
       "      <td>Consent provided</td>\n",
       "      <td>Web</td>\n",
       "      <td>2015-12-12</td>\n",
       "      <td>Closed with explanation</td>\n",
       "      <td>Yes</td>\n",
       "      <td>No</td>\n",
       "      <td>1694674</td>\n",
       "    </tr>\n",
       "    <tr>\n",
       "      <td>1493882</td>\n",
       "      <td>2016-08-09</td>\n",
       "      <td>Credit card</td>\n",
       "      <td>NaN</td>\n",
       "      <td>Transaction issue</td>\n",
       "      <td>NaN</td>\n",
       "      <td>I made a payment to CITI XXXX Credit Card on X...</td>\n",
       "      <td>Company has responded to the consumer and the ...</td>\n",
       "      <td>CITIBANK, N.A.</td>\n",
       "      <td>WI</td>\n",
       "      <td>NaN</td>\n",
       "      <td>NaN</td>\n",
       "      <td>Consent provided</td>\n",
       "      <td>Web</td>\n",
       "      <td>2016-08-09</td>\n",
       "      <td>Closed with non-monetary relief</td>\n",
       "      <td>Yes</td>\n",
       "      <td>No</td>\n",
       "      <td>2053487</td>\n",
       "    </tr>\n",
       "  </tbody>\n",
       "</table>\n",
       "<p>1493883 rows × 18 columns</p>\n",
       "</div>"
      ],
      "text/plain": [
       "        Date received                                            Product  \\\n",
       "0          2020-01-23                        Credit card or prepaid card   \n",
       "1          2019-09-24                                    Debt collection   \n",
       "2          2019-09-19  Credit reporting, credit repair services, or o...   \n",
       "3          2019-10-25  Credit reporting, credit repair services, or o...   \n",
       "4          2020-01-11                                    Debt collection   \n",
       "...               ...                                                ...   \n",
       "1493878    2016-07-11                                      Consumer Loan   \n",
       "1493879    2017-01-24                                    Debt collection   \n",
       "1493880    2015-03-26                                           Mortgage   \n",
       "1493881    2015-12-12                                           Mortgage   \n",
       "1493882    2016-08-09                                        Credit card   \n",
       "\n",
       "                                        Sub-product  \\\n",
       "0        General-purpose credit card or charge card   \n",
       "1                                     I do not know   \n",
       "2                                  Credit reporting   \n",
       "3                                  Credit reporting   \n",
       "4                                        Other debt   \n",
       "...                                             ...   \n",
       "1493878                                Vehicle loan   \n",
       "1493879                               I do not know   \n",
       "1493880                                FHA mortgage   \n",
       "1493881      Conventional adjustable mortgage (ARM)   \n",
       "1493882                                         NaN   \n",
       "\n",
       "                                                   Issue  \\\n",
       "0        Problem with a purchase shown on your statement   \n",
       "1                      Attempts to collect debt not owed   \n",
       "2                   Incorrect information on your report   \n",
       "3                   Incorrect information on your report   \n",
       "4                      Attempts to collect debt not owed   \n",
       "...                                                  ...   \n",
       "1493878                       Managing the loan or lease   \n",
       "1493879                            Communication tactics   \n",
       "1493880         Loan servicing, payments, escrow account   \n",
       "1493881         Loan servicing, payments, escrow account   \n",
       "1493882                                Transaction issue   \n",
       "\n",
       "                                                 Sub-issue  \\\n",
       "0        Card was charged for something you did not pur...   \n",
       "1                                        Debt is not yours   \n",
       "2                      Information belongs to someone else   \n",
       "3                      Information belongs to someone else   \n",
       "4                                        Debt is not yours   \n",
       "...                                                    ...   \n",
       "1493878                                                NaN   \n",
       "1493879                    Threatened to take legal action   \n",
       "1493880                                                NaN   \n",
       "1493881                                                NaN   \n",
       "1493882                                                NaN   \n",
       "\n",
       "                              Consumer complaint narrative  \\\n",
       "0                                                      NaN   \n",
       "1        transworld systems inc. \\nis trying to collect...   \n",
       "2                                                      NaN   \n",
       "3        I would like to request the suppression of the...   \n",
       "4                                                      NaN   \n",
       "...                                                    ...   \n",
       "1493878  I was on automatic payment for my car loan. In...   \n",
       "1493879  I recieved a collections call from an unknown ...   \n",
       "1493880  On XXXX XXXX, 2015, I contacted XXXX XXXX, who...   \n",
       "1493881  I can not get from chase who services my mortg...   \n",
       "1493882  I made a payment to CITI XXXX Credit Card on X...   \n",
       "\n",
       "                                   Company public response  \\\n",
       "0                                                      NaN   \n",
       "1                                                      NaN   \n",
       "2        Company has responded to the consumer and the ...   \n",
       "3        Company has responded to the consumer and the ...   \n",
       "4                                                      NaN   \n",
       "...                                                    ...   \n",
       "1493878                                                NaN   \n",
       "1493879  Company has responded to the consumer and the ...   \n",
       "1493880                                                NaN   \n",
       "1493881                                                NaN   \n",
       "1493882  Company has responded to the consumer and the ...   \n",
       "\n",
       "                                        Company State ZIP code Tags  \\\n",
       "0                          JPMORGAN CHASE & CO.    IL      NaN  NaN   \n",
       "1                        TRANSWORLD SYSTEMS INC    FL    335XX  NaN   \n",
       "2           Experian Information Solutions Inc.    PA    15206  NaN   \n",
       "3        TRANSUNION INTERMEDIATE HOLDINGS, INC.    CA    937XX  NaN   \n",
       "4                                 EQUIFAX, INC.    NY    10456  NaN   \n",
       "...                                         ...   ...      ...  ...   \n",
       "1493878     NISSAN MOTOR ACCEPTANCE CORPORATION    IL    607XX  NaN   \n",
       "1493879           CMRE Financial Services, Inc.    CA    917XX  NaN   \n",
       "1493880         Finance of America Mortgage LLC    CA    925XX  NaN   \n",
       "1493881                    JPMORGAN CHASE & CO.    NY    110XX  NaN   \n",
       "1493882                          CITIBANK, N.A.    WI      NaN  NaN   \n",
       "\n",
       "        Consumer consent provided? Submitted via Date sent to company  \\\n",
       "0                              NaN           Web           2020-01-23   \n",
       "1                 Consent provided           Web           2019-09-24   \n",
       "2             Consent not provided           Web           2019-09-20   \n",
       "3                 Consent provided           Web           2019-10-25   \n",
       "4                              NaN           Web           2020-01-11   \n",
       "...                            ...           ...                  ...   \n",
       "1493878           Consent provided           Web           2016-07-11   \n",
       "1493879           Consent provided           Web           2017-01-24   \n",
       "1493880           Consent provided           Web           2015-03-26   \n",
       "1493881           Consent provided           Web           2015-12-12   \n",
       "1493882           Consent provided           Web           2016-08-09   \n",
       "\n",
       "            Company response to consumer Timely response? Consumer disputed?  \\\n",
       "0            Closed with monetary relief              Yes                NaN   \n",
       "1                Closed with explanation              Yes                NaN   \n",
       "2        Closed with non-monetary relief              Yes                NaN   \n",
       "3                Closed with explanation              Yes                NaN   \n",
       "4                            In progress              Yes                NaN   \n",
       "...                                  ...              ...                ...   \n",
       "1493878          Closed with explanation              Yes                 No   \n",
       "1493879          Closed with explanation              Yes                 No   \n",
       "1493880      Closed with monetary relief              Yes                 No   \n",
       "1493881          Closed with explanation              Yes                 No   \n",
       "1493882  Closed with non-monetary relief              Yes                 No   \n",
       "\n",
       "         Complaint ID  \n",
       "0             3505861  \n",
       "1             3384392  \n",
       "2             3379500  \n",
       "3             3417821  \n",
       "4             3493059  \n",
       "...               ...  \n",
       "1493878       2007463  \n",
       "1493879       2308954  \n",
       "1493880       1303324  \n",
       "1493881       1694674  \n",
       "1493882       2053487  \n",
       "\n",
       "[1493883 rows x 18 columns]"
      ]
     },
     "execution_count": 36,
     "metadata": {},
     "output_type": "execute_result"
    }
   ],
   "source": [
    "data"
   ]
  },
  {
   "cell_type": "code",
   "execution_count": null,
   "metadata": {},
   "outputs": [],
   "source": []
  }
 ],
 "metadata": {
  "kernelspec": {
   "display_name": "Python 3",
   "language": "python",
   "name": "python3"
  },
  "language_info": {
   "codemirror_mode": {
    "name": "ipython",
    "version": 3
   },
   "file_extension": ".py",
   "mimetype": "text/x-python",
   "name": "python",
   "nbconvert_exporter": "python",
   "pygments_lexer": "ipython3",
   "version": "3.6.9"
  },
  "latex_envs": {
   "LaTeX_envs_menu_present": true,
   "autoclose": false,
   "autocomplete": true,
   "bibliofile": "biblio.bib",
   "cite_by": "apalike",
   "current_citInitial": 1,
   "eqLabelWithNumbers": true,
   "eqNumInitial": 1,
   "hotkeys": {
    "equation": "Ctrl-E",
    "itemize": "Ctrl-I"
   },
   "labels_anchors": false,
   "latex_user_defs": false,
   "report_style_numbering": false,
   "user_envs_cfg": false
  },
  "toc": {
   "base_numbering": 1,
   "nav_menu": {},
   "number_sections": true,
   "sideBar": true,
   "skip_h1_title": false,
   "title_cell": "Table of Contents",
   "title_sidebar": "Contents",
   "toc_cell": false,
   "toc_position": {},
   "toc_section_display": true,
   "toc_window_display": false
  },
  "varInspector": {
   "cols": {
    "lenName": 16,
    "lenType": 16,
    "lenVar": 40
   },
   "kernels_config": {
    "python": {
     "delete_cmd_postfix": "",
     "delete_cmd_prefix": "del ",
     "library": "var_list.py",
     "varRefreshCmd": "print(var_dic_list())"
    },
    "r": {
     "delete_cmd_postfix": ") ",
     "delete_cmd_prefix": "rm(",
     "library": "var_list.r",
     "varRefreshCmd": "cat(var_dic_list()) "
    }
   },
   "types_to_exclude": [
    "module",
    "function",
    "builtin_function_or_method",
    "instance",
    "_Feature"
   ],
   "window_display": false
  }
 },
 "nbformat": 4,
 "nbformat_minor": 2
}
